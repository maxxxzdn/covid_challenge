{
 "cells": [
  {
   "cell_type": "code",
   "execution_count": 156,
   "metadata": {},
   "outputs": [],
   "source": [
    "import numpy as np\n",
    "import pandas as pd\n",
    "import seaborn as sns\n",
    "import torch\n",
    "\n",
    "from utils import *\n",
    "from fancyimpute import SimpleFill, KNN, SoftImpute, IterativeSVD, MatrixFactorization, NuclearNormMinimization, BiScaler\n",
    "from scipy import stats\n",
    "from matplotlib import pyplot as plt\n",
    "from sklearn.linear_model import BayesianRidge\n",
    "from sklearn.tree import DecisionTreeRegressor\n",
    "from sklearn.ensemble import ExtraTreesRegressor\n",
    "from sklearn.neighbors import KNeighborsRegressor\n",
    "from sklearn.impute import IterativeImputer, SimpleImputer, KNNImputer\n",
    "sns.set(rc={'figure.figsize':(11.7,8.27)})"
   ]
  },
  {
   "cell_type": "code",
   "execution_count": 157,
   "metadata": {},
   "outputs": [],
   "source": [
    "np.random.seed(0)"
   ]
  },
  {
   "cell_type": "code",
   "execution_count": 158,
   "metadata": {},
   "outputs": [],
   "source": [
    "# Function produce_NA for generating missing values ------------------------------------------------------\n",
    "\n",
    "def produce_NA(X, p_miss, mecha=\"MCAR\", opt=None, p_obs=None, q=None):\n",
    "    \"\"\"\n",
    "    Generate missing values for specifics missing-data mechanism and proportion of missing values. \n",
    "    \n",
    "    Parameters\n",
    "    ----------\n",
    "    X : torch.DoubleTensor or np.ndarray, shape (n, d)\n",
    "        Data for which missing values will be simulated.\n",
    "        If a numpy array is provided, it will be converted to a pytorch tensor.\n",
    "    p_miss : float\n",
    "        Proportion of missing values to generate for variables which will have missing values.\n",
    "    mecha : str, \n",
    "            Indicates the missing-data mechanism to be used. \"MCAR\" by default, \"MAR\", \"MNAR\" or \"MNARsmask\"\n",
    "    opt: str, \n",
    "         For mecha = \"MNAR\", it indicates how the missing-data mechanism is generated: using a logistic regression (\"logistic\"), quantile censorship (\"quantile\") or logistic regression for generating a self-masked MNAR mechanism (\"selfmasked\").\n",
    "    p_obs : float\n",
    "            If mecha = \"MAR\", or mecha = \"MNAR\" with opt = \"logistic\" or \"quanti\", proportion of variables with *no* missing values that will be used for the logistic masking model.\n",
    "    q : float\n",
    "        If mecha = \"MNAR\" and opt = \"quanti\", quantile level at which the cuts should occur.\n",
    "    \n",
    "    Returns\n",
    "    ----------\n",
    "    A dictionnary containing:\n",
    "    'X_init': the initial data matrix.\n",
    "    'X_incomp': the data with the generated missing values.\n",
    "    'mask': a matrix indexing the generated missing values.s\n",
    "    \"\"\"\n",
    "    \n",
    "    to_torch = torch.is_tensor(X) ## output a pytorch tensor, or a numpy array\n",
    "    if not to_torch:\n",
    "        X = X.astype(np.float32)\n",
    "        X = torch.from_numpy(X)\n",
    "    \n",
    "    if mecha == \"MAR\":\n",
    "        mask = MAR_mask(X, p_miss, p_obs).double()\n",
    "    elif mecha == \"MNAR\" and opt == \"logistic\":\n",
    "        mask = MNAR_mask_logistic(X, p_miss, p_obs).double()\n",
    "    elif mecha == \"MNAR\" and opt == \"quantile\":\n",
    "        mask = MNAR_mask_quantiles(X, p_miss, q, 1-p_obs).double()\n",
    "    elif mecha == \"MNAR\" and opt == \"selfmasked\":\n",
    "        mask = MNAR_self_mask_logistic(X, p_miss).double()\n",
    "    else:\n",
    "        mask = (torch.rand(X.shape) < p_miss).double()\n",
    "    \n",
    "    X_nas = X.clone()\n",
    "    X_nas[mask.bool()] = np.nan\n",
    "    \n",
    "    return {'X_init': X.double(), 'X_incomp': X_nas.double(), 'mask': mask}"
   ]
  },
  {
   "cell_type": "markdown",
   "metadata": {},
   "source": [
    "# EDA"
   ]
  },
  {
   "cell_type": "code",
   "execution_count": 159,
   "metadata": {},
   "outputs": [],
   "source": [
    "data = pd.read_csv('trainSet.txt')"
   ]
  },
  {
   "cell_type": "code",
   "execution_count": 160,
   "metadata": {},
   "outputs": [
    {
     "data": {
      "text/plain": [
       "6"
      ]
     },
     "execution_count": 160,
     "metadata": {},
     "output_type": "execute_result"
    }
   ],
   "source": [
    "# N full rows\n",
    "len(data.dropna())"
   ]
  },
  {
   "cell_type": "code",
   "execution_count": 161,
   "metadata": {},
   "outputs": [
    {
     "data": {
      "text/plain": [
       "PatientID                0.00\n",
       "ImageFile                0.00\n",
       "Hospital                 0.00\n",
       "Age                      0.00\n",
       "Sex                      0.00\n",
       "Temp_C                   0.18\n",
       "Cough                    0.01\n",
       "DifficultyInBreathing    0.00\n",
       "WBC                      0.01\n",
       "CRP                      0.04\n",
       "Fibrinogen               0.68\n",
       "LDH                      0.16\n",
       "Ddimer                   0.72\n",
       "Ox_percentage            0.28\n",
       "PaO2                     0.20\n",
       "SaO2                     0.68\n",
       "pH                       0.24\n",
       "CardiovascularDisease    0.02\n",
       "RespiratoryFailure       0.18\n",
       "Prognosis                0.00\n",
       "dtype: float64"
      ]
     },
     "execution_count": 161,
     "metadata": {},
     "output_type": "execute_result"
    }
   ],
   "source": [
    "# Percentage of missigness\n",
    "round(data.isna().sum()/len(data), 2)"
   ]
  },
  {
   "cell_type": "code",
   "execution_count": 162,
   "metadata": {},
   "outputs": [],
   "source": [
    "def preprocess(df, drop = True):\n",
    "    dataDropped = df.drop(['Ddimer', 'SaO2', 'Fibrinogen', 'Prognosis', 'PatientID', 'ImageFile', 'Hospital'], axis = 1)\n",
    "    if drop:\n",
    "        dataDropped = dataDropped.dropna()\n",
    "    # Binary variables (Hackathon description_26_04.pdf)\n",
    "    dataDropped['Cough'] = pd.factorize(dataDropped['Cough'])[0]\n",
    "    dataDropped['Sex'] = pd.factorize(dataDropped['Sex'])[0]\n",
    "    dataDropped['DifficultyInBreathing'] = pd.factorize(dataDropped['DifficultyInBreathing'])[0]\n",
    "    dataDropped['CardiovascularDisease'] = pd.factorize(dataDropped['CardiovascularDisease'])[0]\n",
    "    dataDropped['RespiratoryFailure'] = pd.factorize(dataDropped['RespiratoryFailure'])[0]\n",
    "    return dataDropped\n",
    "\n",
    "def standardize(df):\n",
    "    return ((df - df.mean())/df.std())"
   ]
  },
  {
   "cell_type": "code",
   "execution_count": 163,
   "metadata": {},
   "outputs": [],
   "source": [
    "def generateMissingData(df, p_miss=0.3):\n",
    "    processed = preprocess(df)\n",
    "#     standardized = standardize(processed)\n",
    "    res = produce_NA(processed.to_numpy(), p_miss=p_miss, mecha=\"MCAR\")\n",
    "    res['X_init'] = pd.DataFrame(res['X_init'].numpy())\n",
    "    res['X_init'].columns = processed.columns\n",
    "    res['X_incomp'] = pd.DataFrame(res['X_incomp'].numpy())\n",
    "    res['X_incomp'].columns = processed.columns\n",
    "    res['mask'] = pd.DataFrame(res['mask'].numpy())\n",
    "    res['mask'].columns = processed.columns\n",
    "    return res"
   ]
  },
  {
   "cell_type": "code",
   "execution_count": 164,
   "metadata": {},
   "outputs": [],
   "source": [
    "def evaluate(data, algorithm):\n",
    "    msk = np.random.rand(len(data)) < 0.8\n",
    "    train = preprocess(data[msk])\n",
    "    test = data[~msk]\n",
    "    full_data, missed_data, _ = generateMissingData(test).items()\n",
    "    algorithm.fit(train)\n",
    "    restored_data = algorithm.transform(missed_data[1])\n",
    "    return np.linalg.norm(restored_data-full_data[1], ord = 2)"
   ]
  },
  {
   "cell_type": "markdown",
   "metadata": {},
   "source": [
    "## Main Benchmark"
   ]
  },
  {
   "cell_type": "code",
   "execution_count": 165,
   "metadata": {},
   "outputs": [],
   "source": [
    "algorithms = {\n",
    "    \"SimpleFill\": SimpleImputer(),\n",
    "    \"KNN-23\": KNNImputer(n_neighbors=23),\n",
    "    \"KNN-24\": KNNImputer(n_neighbors=24),\n",
    "    \"KNN-25\": KNNImputer(n_neighbors=25),\n",
    "    \"KNN-26\": KNNImputer(n_neighbors=26),\n",
    "    \"KNN-27\": KNNImputer(n_neighbors=27),\n",
    "    \"KNN-28\": KNNImputer(n_neighbors=28),\n",
    "\n",
    "}\n",
    "\n",
    "benchmarkResults = {algorithm: [] for algorithm in algorithms}"
   ]
  },
  {
   "cell_type": "code",
   "execution_count": 166,
   "metadata": {},
   "outputs": [],
   "source": [
    "train = pd.read_csv('trainSet.txt')\n",
    "test = pd.read_csv('testSet.txt')"
   ]
  },
  {
   "cell_type": "code",
   "execution_count": 167,
   "metadata": {},
   "outputs": [],
   "source": [
    "train = preprocess(train, drop = True)\n",
    "test = preprocess(test, drop = False)"
   ]
  },
  {
   "cell_type": "code",
   "execution_count": 168,
   "metadata": {},
   "outputs": [],
   "source": [
    "model = KNNImputer(n_neighbors=25)"
   ]
  },
  {
   "cell_type": "code",
   "execution_count": 169,
   "metadata": {},
   "outputs": [],
   "source": [
    "test = model.fit(train).transform(test)"
   ]
  },
  {
   "cell_type": "code",
   "execution_count": 171,
   "metadata": {},
   "outputs": [],
   "source": [
    "test = pd.DataFrame(test, columns=train.columns)"
   ]
  },
  {
   "cell_type": "code",
   "execution_count": 172,
   "metadata": {},
   "outputs": [],
   "source": [
    "test.to_csv('testSet_filled.txt')"
   ]
  },
  {
   "cell_type": "code",
   "execution_count": 83,
   "metadata": {},
   "outputs": [
    {
     "name": "stdout",
     "output_type": "stream",
     "text": [
      "Start with SimpleFill\n",
      "End with SimpleFill\n",
      "Start with KNN-23\n",
      "End with KNN-23\n",
      "Start with KNN-24\n",
      "End with KNN-24\n",
      "Start with KNN-25\n",
      "End with KNN-25\n",
      "Start with KNN-26\n",
      "End with KNN-26\n",
      "Start with KNN-27\n",
      "End with KNN-27\n",
      "Start with KNN-28\n",
      "End with KNN-28\n"
     ]
    }
   ],
   "source": [
    "for algorithm in algorithms:\n",
    "    print(\"Start with {}\".format(algorithm))\n",
    "    for k in range(1000):\n",
    "        benchmarkResults[algorithm].append(evaluate(data, algorithms[algorithm]))\n",
    "    print(\"End with {}\".format(algorithm))\n",
    "        "
   ]
  },
  {
   "cell_type": "code",
   "execution_count": 84,
   "metadata": {},
   "outputs": [
    {
     "name": "stdout",
     "output_type": "stream",
     "text": [
      "Result for algorithm SimpleFill\n",
      "Mean: 930.2297683862317\n",
      "Median: 722.5632316607101\n",
      "\n",
      "\n",
      "Result for algorithm KNN-23\n",
      "Mean: 896.0826335782621\n",
      "Median: 659.2186737581271\n",
      "\n",
      "\n",
      "Result for algorithm KNN-24\n",
      "Mean: 879.6329213034003\n",
      "Median: 661.891681086659\n",
      "\n",
      "\n",
      "Result for algorithm KNN-25\n",
      "Mean: 859.639995657454\n",
      "Median: 656.4481446351591\n",
      "\n",
      "\n",
      "Result for algorithm KNN-26\n",
      "Mean: 870.8674106129995\n",
      "Median: 657.3010734939785\n",
      "\n",
      "\n",
      "Result for algorithm KNN-27\n",
      "Mean: 887.8915148588754\n",
      "Median: 652.1271239284425\n",
      "\n",
      "\n",
      "Result for algorithm KNN-28\n",
      "Mean: 894.8570494309972\n",
      "Median: 665.8631108336667\n",
      "\n",
      "\n"
     ]
    }
   ],
   "source": [
    "for algorithm in algorithms:\n",
    "    print(\"Result for algorithm {}\".format(algorithm))\n",
    "    print(\"Mean: {}\".format(np.mean(benchmarkResults[algorithm])))\n",
    "    print(\"Median: {}\".format(np.median(benchmarkResults[algorithm])))\n",
    "    print('\\n')\n"
   ]
  },
  {
   "cell_type": "markdown",
   "metadata": {},
   "source": [
    "## Plot"
   ]
  },
  {
   "cell_type": "code",
   "execution_count": 85,
   "metadata": {},
   "outputs": [],
   "source": [
    "def plot(m):\n",
    "    dfs = []\n",
    "    for key in m:\n",
    "        dfs.append(pd.DataFrame(np.reshape(np.array(m[key]), (-1, 1))).assign(Algorithm=key))\n",
    "    cdf = pd.concat(dfs)\n",
    "    mdf = pd.melt(cdf, id_vars=['Algorithm'])\n",
    "    mdf.rename(columns={\"value\": \"MSE\"}, inplace=True)\n",
    "    ax = sns.boxplot(x=\"Algorithm\", y=\"MSE\", data=mdf)  # RUN PLOT   \n",
    "#     plt.savefig(\"result.jpg\")\n",
    "    plt.show()\n",
    "\n",
    "    plt.clf()\n",
    "\n",
    "    plt.close()  "
   ]
  },
  {
   "cell_type": "code",
   "execution_count": 86,
   "metadata": {},
   "outputs": [
    {
     "data": {
      "image/png": "[encoded data removed]",
      "text/plain": [
       "<Figure size 842.4x595.44 with 1 Axes>"
      ]
     },
     "metadata": {},
     "output_type": "display_data"
    }
   ],
   "source": [
    "plot(benchmarkResults)"
   ]
  },
  {
   "cell_type": "markdown",
   "metadata": {},
   "source": [
    "# Iterative Imputer with multiple regressors/estimators"
   ]
  },
  {
   "cell_type": "code",
   "execution_count": 87,
   "metadata": {},
   "outputs": [
    {
     "name": "stdout",
     "output_type": "stream",
     "text": [
      "Start with BayesianRidge\n",
      "End with BayesianRidge\n",
      "Start with DecisionTreeRegressor\n",
      "End with DecisionTreeRegressor\n",
      "Start with ExtraTreesRegressor\n",
      "End with ExtraTreesRegressor\n"
     ]
    }
   ],
   "source": [
    "iterativeImputers = {\n",
    "    'BayesianRidge': IterativeImputer(random_state=0, estimator=BayesianRidge()),\n",
    "    'DecisionTreeRegressor': IterativeImputer(random_state=0, estimator=DecisionTreeRegressor(max_features='sqrt', random_state=0)),\n",
    "    'ExtraTreesRegressor': IterativeImputer(random_state=0, estimator=ExtraTreesRegressor(n_estimators=10, random_state=0)),\n",
    "#     'KNeighborsRegressor': KNeighborsRegressor(n_neighbors=15)\n",
    "}\n",
    "\n",
    "iterativeBenchmarkResults = {iterativeImputer: [] for iterativeImputer in iterativeImputers}\n",
    "\n",
    "for iterativeImputer in iterativeImputers:\n",
    "    print(\"Start with {}\".format(iterativeImputer))\n",
    "    for k in range(100):\n",
    "        iterativeBenchmarkResults[iterativeImputer].append(evaluate(data, iterativeImputers[iterativeImputer]))\n",
    "    print(\"End with {}\".format(iterativeImputer))\n"
   ]
  },
  {
   "cell_type": "code",
   "execution_count": 88,
   "metadata": {},
   "outputs": [
    {
     "data": {
      "image/png": "[encoded data removed]",
      "text/plain": [
       "<Figure size 842.4x595.44 with 1 Axes>"
      ]
     },
     "metadata": {},
     "output_type": "display_data"
    }
   ],
   "source": [
    "plot(dict(list(iterativeBenchmarkResults.items()) + list(benchmarkResults.items())))"
   ]
  },
  {
   "cell_type": "code",
   "execution_count": null,
   "metadata": {},
   "outputs": [],
   "source": []
  }
 ],
 "metadata": {
  "kernelspec": {
   "display_name": "Python 3",
   "language": "python",
   "name": "python3"
  },
  "language_info": {
   "codemirror_mode": {
    "name": "ipython",
    "version": 3
   },
   "file_extension": ".py",
   "mimetype": "text/x-python",
   "name": "python",
   "nbconvert_exporter": "python",
   "pygments_lexer": "ipython3",
   "version": "3.8.6"
  },
  "metadata": {
   "interpreter": {
    "hash": "918b74d625347cde4a6239dba95ef8a6c2073475dbe6d0f23c79a1d87985e3e6"
   }
  }
 },
 "nbformat": 4,
 "nbformat_minor": 4
}
