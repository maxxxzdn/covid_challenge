{
 "cells": [
  {
   "cell_type": "code",
   "execution_count": 1,
   "metadata": {},
   "outputs": [],
   "source": [
    "import wget\n",
    "wget.download('https://raw.githubusercontent.com/BorisMuzellec/MissingDataOT/master/utils.py')\n",
    "\n",
    "import numpy as np\n",
    "import pandas as pd\n",
    "from utils import *\n",
    "import torch"
   ]
  },
  {
   "cell_type": "code",
   "execution_count": 2,
   "metadata": {},
   "outputs": [],
   "source": [
    "np.random.seed(0)"
   ]
  },
  {
   "cell_type": "code",
   "execution_count": 12,
   "metadata": {},
   "outputs": [],
   "source": [
    "# Function produce_NA for generating missing values ------------------------------------------------------\n",
    "\n",
    "def produce_NA(X, p_miss, mecha=\"MCAR\", opt=None, p_obs=None, q=None):\n",
    "    \"\"\"\n",
    "    Generate missing values for specifics missing-data mechanism and proportion of missing values. \n",
    "    \n",
    "    Parameters\n",
    "    ----------\n",
    "    X : torch.DoubleTensor or np.ndarray, shape (n, d)\n",
    "        Data for which missing values will be simulated.\n",
    "        If a numpy array is provided, it will be converted to a pytorch tensor.\n",
    "    p_miss : float\n",
    "        Proportion of missing values to generate for variables which will have missing values.\n",
    "    mecha : str, \n",
    "            Indicates the missing-data mechanism to be used. \"MCAR\" by default, \"MAR\", \"MNAR\" or \"MNARsmask\"\n",
    "    opt: str, \n",
    "         For mecha = \"MNAR\", it indicates how the missing-data mechanism is generated: using a logistic regression (\"logistic\"), quantile censorship (\"quantile\") or logistic regression for generating a self-masked MNAR mechanism (\"selfmasked\").\n",
    "    p_obs : float\n",
    "            If mecha = \"MAR\", or mecha = \"MNAR\" with opt = \"logistic\" or \"quanti\", proportion of variables with *no* missing values that will be used for the logistic masking model.\n",
    "    q : float\n",
    "        If mecha = \"MNAR\" and opt = \"quanti\", quantile level at which the cuts should occur.\n",
    "    \n",
    "    Returns\n",
    "    ----------\n",
    "    A dictionnary containing:\n",
    "    'X_init': the initial data matrix.\n",
    "    'X_incomp': the data with the generated missing values.\n",
    "    'mask': a matrix indexing the generated missing values.s\n",
    "    \"\"\"\n",
    "    \n",
    "    to_torch = torch.is_tensor(X) ## output a pytorch tensor, or a numpy array\n",
    "    if not to_torch:\n",
    "        X = X.astype(np.float32)\n",
    "        X = torch.from_numpy(X)\n",
    "    \n",
    "    if mecha == \"MAR\":\n",
    "        mask = MAR_mask(X, p_miss, p_obs).double()\n",
    "    elif mecha == \"MNAR\" and opt == \"logistic\":\n",
    "        mask = MNAR_mask_logistic(X, p_miss, p_obs).double()\n",
    "    elif mecha == \"MNAR\" and opt == \"quantile\":\n",
    "        mask = MNAR_mask_quantiles(X, p_miss, q, 1-p_obs).double()\n",
    "    elif mecha == \"MNAR\" and opt == \"selfmasked\":\n",
    "        mask = MNAR_self_mask_logistic(X, p_miss).double()\n",
    "    else:\n",
    "        mask = (torch.rand(X.shape) < p_miss).double()\n",
    "    \n",
    "    X_nas = X.clone()\n",
    "    X_nas[mask.bool()] = np.nan\n",
    "    \n",
    "    return {'X_init': X.double(), 'X_incomp': X_nas.double(), 'mask': mask}"
   ]
  },
  {
   "cell_type": "code",
   "execution_count": 3,
   "metadata": {},
   "outputs": [],
   "source": [
    "data = pd.read_csv('trainSet.txt')"
   ]
  },
  {
   "cell_type": "code",
   "execution_count": 4,
   "metadata": {},
   "outputs": [
    {
     "output_type": "execute_result",
     "data": {
      "text/plain": [
       "6"
      ]
     },
     "metadata": {},
     "execution_count": 4
    }
   ],
   "source": [
    "# N full rows\n",
    "len(data.dropna())"
   ]
  },
  {
   "cell_type": "code",
   "execution_count": 5,
   "metadata": {},
   "outputs": [
    {
     "output_type": "execute_result",
     "data": {
      "text/plain": [
       "PatientID                0.00\n",
       "ImageFile                0.00\n",
       "Hospital                 0.00\n",
       "Age                      0.00\n",
       "Sex                      0.00\n",
       "Temp_C                   0.18\n",
       "Cough                    0.01\n",
       "DifficultyInBreathing    0.00\n",
       "WBC                      0.01\n",
       "CRP                      0.04\n",
       "Fibrinogen               0.68\n",
       "LDH                      0.16\n",
       "Ddimer                   0.72\n",
       "Ox_percentage            0.28\n",
       "PaO2                     0.20\n",
       "SaO2                     0.68\n",
       "pH                       0.24\n",
       "CardiovascularDisease    0.02\n",
       "RespiratoryFailure       0.18\n",
       "Prognosis                0.00\n",
       "dtype: float64"
      ]
     },
     "metadata": {},
     "execution_count": 5
    }
   ],
   "source": [
    "# Percentage of missigness\n",
    "round(data.isna().sum()/len(data), 2)"
   ]
  },
  {
   "cell_type": "code",
   "execution_count": 18,
   "metadata": {},
   "outputs": [],
   "source": [
    "def preprocess(df):\n",
    "    dataDropped = df.drop(['Ddimer', 'SaO2', 'Fibrinogen', 'Prognosis', 'PatientID', 'ImageFile', 'Hospital'], axis = 1).dropna()\n",
    "    # Binary variables (Hackathon description_26_04.pdf)\n",
    "    dataDropped['Cough'] = pd.factorize(dataDropped['Cough'])[0]\n",
    "    dataDropped['Sex'] = pd.factorize(dataDropped['Sex'])[0]\n",
    "    dataDropped['DifficultyInBreathing'] = pd.factorize(dataDropped['DifficultyInBreathing'])[0]\n",
    "    dataDropped['CardiovascularDisease'] = pd.factorize(dataDropped['CardiovascularDisease'])[0]\n",
    "    dataDropped['RespiratoryFailure'] = pd.factorize(dataDropped['RespiratoryFailure'])[0]\n",
    "    return dataDropped"
   ]
  },
  {
   "cell_type": "code",
   "execution_count": 23,
   "metadata": {},
   "outputs": [],
   "source": [
    "def generateMissingData(df, p_miss=0.3):\n",
    "    processed = preprocess(df)\n",
    "    res = produce_NA(processed.to_numpy(), p_miss=p_miss, mecha=\"MCAR\")\n",
    "    res['X_init'] = pd.DataFrame(res['X_init'].numpy())\n",
    "    res['X_init'].columns = processed.columns\n",
    "    res['X_incomp'] = pd.DataFrame(res['X_incomp'].numpy())\n",
    "    res['X_incomp'].columns = processed.columns\n",
    "    return res"
   ]
  },
  {
   "cell_type": "code",
   "execution_count": 24,
   "metadata": {},
   "outputs": [
    {
     "output_type": "execute_result",
     "data": {
      "text/plain": [
       "{'X_init':       Age  Sex     Temp_C  Cough  DifficultyInBreathing    WBC        CRP  \\\n",
       " 0    56.0  0.0  38.299999    0.0                    0.0   7.85   9.000000   \n",
       " 1    61.0  0.0  38.000000    1.0                    0.0   3.57  57.400002   \n",
       " 2    64.0  0.0  36.000000    1.0                    1.0   5.26  41.900002   \n",
       " 3    54.0  0.0  36.599998    1.0                    1.0   7.01  67.900002   \n",
       " 4    44.0  0.0  37.700001    0.0                    1.0   9.18  42.700001   \n",
       " ..    ...  ...        ...    ...                    ...    ...        ...   \n",
       " 309  47.0  1.0  36.000000    1.0                    0.0  11.20   0.020000   \n",
       " 310  59.0  1.0  36.299999    0.0                    1.0   6.90   1.150000   \n",
       " 311  52.0  0.0  37.500000    0.0                    0.0   5.40   1.630000   \n",
       " 312  48.0  0.0  36.500000    0.0                    1.0   5.91   1.860000   \n",
       " 313  50.0  0.0  39.000000    1.0                    1.0   6.90  22.010000   \n",
       " \n",
       "        LDH  Ox_percentage       PaO2    pH  CardiovascularDisease  \\\n",
       " 0    159.0           93.0  73.199997  7.47                    0.0   \n",
       " 1    309.0           92.0  57.000000  7.47                    0.0   \n",
       " 2    299.0           96.0  72.199997  7.51                    1.0   \n",
       " 3    458.0           97.0  61.000000  7.45                    0.0   \n",
       " 4    243.0           98.0  23.000000  7.43                    0.0   \n",
       " ..     ...            ...        ...   ...                    ...   \n",
       " 309  161.0           97.0  99.000000  7.40                    0.0   \n",
       " 310  237.0           95.0  82.000000  7.39                    0.0   \n",
       " 311  307.0           89.0  62.299999  7.46                    0.0   \n",
       " 312  235.0           99.0  81.900002  7.42                    0.0   \n",
       " 313  332.0           90.0  81.000000  7.44                    0.0   \n",
       " \n",
       "      RespiratoryFailure  \n",
       " 0                   0.0  \n",
       " 1                   0.0  \n",
       " 2                   0.0  \n",
       " 3                   0.0  \n",
       " 4                   0.0  \n",
       " ..                  ...  \n",
       " 309                 0.0  \n",
       " 310                 0.0  \n",
       " 311                 0.0  \n",
       " 312                 0.0  \n",
       " 313                 0.0  \n",
       " \n",
       " [314 rows x 13 columns],\n",
       " 'X_incomp':       Age  Sex     Temp_C  Cough  DifficultyInBreathing    WBC        CRP  \\\n",
       " 0    56.0  0.0  38.299999    0.0                    0.0   7.85   9.000000   \n",
       " 1    61.0  0.0  38.000000    1.0                    0.0   3.57        NaN   \n",
       " 2     NaN  0.0  36.000000    1.0                    NaN   5.26        NaN   \n",
       " 3    54.0  0.0        NaN    1.0                    1.0   7.01  67.900002   \n",
       " 4    44.0  0.0  37.700001    0.0                    1.0   9.18        NaN   \n",
       " ..    ...  ...        ...    ...                    ...    ...        ...   \n",
       " 309   NaN  1.0  36.000000    1.0                    NaN  11.20        NaN   \n",
       " 310   NaN  NaN  36.299999    0.0                    NaN   6.90        NaN   \n",
       " 311  52.0  NaN  37.500000    0.0                    0.0   5.40        NaN   \n",
       " 312  48.0  0.0  36.500000    0.0                    NaN   5.91        NaN   \n",
       " 313   NaN  0.0        NaN    1.0                    1.0    NaN  22.010000   \n",
       " \n",
       "        LDH  Ox_percentage       PaO2    pH  CardiovascularDisease  \\\n",
       " 0    159.0            NaN  73.199997  7.47                    0.0   \n",
       " 1    309.0           92.0  57.000000  7.47                    NaN   \n",
       " 2      NaN           96.0        NaN  7.51                    1.0   \n",
       " 3      NaN           97.0        NaN  7.45                    NaN   \n",
       " 4    243.0           98.0  23.000000  7.43                    NaN   \n",
       " ..     ...            ...        ...   ...                    ...   \n",
       " 309    NaN           97.0        NaN   NaN                    0.0   \n",
       " 310  237.0           95.0  82.000000  7.39                    0.0   \n",
       " 311    NaN            NaN  62.299999  7.46                    0.0   \n",
       " 312    NaN           99.0  81.900002  7.42                    0.0   \n",
       " 313  332.0           90.0  81.000000  7.44                    NaN   \n",
       " \n",
       "      RespiratoryFailure  \n",
       " 0                   NaN  \n",
       " 1                   0.0  \n",
       " 2                   NaN  \n",
       " 3                   0.0  \n",
       " 4                   NaN  \n",
       " ..                  ...  \n",
       " 309                 0.0  \n",
       " 310                 0.0  \n",
       " 311                 NaN  \n",
       " 312                 NaN  \n",
       " 313                 0.0  \n",
       " \n",
       " [314 rows x 13 columns],\n",
       " 'mask': tensor([[0., 0., 0.,  ..., 0., 0., 1.],\n",
       "         [0., 0., 0.,  ..., 0., 1., 0.],\n",
       "         [1., 0., 0.,  ..., 0., 0., 1.],\n",
       "         ...,\n",
       "         [0., 1., 0.,  ..., 0., 0., 1.],\n",
       "         [0., 0., 0.,  ..., 0., 0., 1.],\n",
       "         [1., 0., 1.,  ..., 0., 1., 0.]], dtype=torch.float64)}"
      ]
     },
     "metadata": {},
     "execution_count": 24
    }
   ],
   "source": [
    "generateMissingData(data)"
   ]
  },
  {
   "cell_type": "code",
   "execution_count": null,
   "metadata": {},
   "outputs": [],
   "source": []
  }
 ],
 "metadata": {
  "kernelspec": {
   "name": "python392jvsc74a57bd0918b74d625347cde4a6239dba95ef8a6c2073475dbe6d0f23c79a1d87985e3e6",
   "display_name": "Python 3.9.2 64-bit ('data-science': conda)"
  },
  "language_info": {
   "codemirror_mode": {
    "name": "ipython",
    "version": 3
   },
   "file_extension": ".py",
   "mimetype": "text/x-python",
   "name": "python",
   "nbconvert_exporter": "python",
   "pygments_lexer": "ipython3",
   "version": "3.9.2"
  },
  "metadata": {
   "interpreter": {
    "hash": "918b74d625347cde4a6239dba95ef8a6c2073475dbe6d0f23c79a1d87985e3e6"
   }
  }
 },
 "nbformat": 4,
 "nbformat_minor": 4
}