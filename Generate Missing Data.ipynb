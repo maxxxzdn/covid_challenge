{
 "cells": [
  {
   "cell_type": "code",
   "execution_count": 1,
   "metadata": {},
   "outputs": [],
   "source": [
    "import wget\n",
    "wget.download('https://raw.githubusercontent.com/BorisMuzellec/MissingDataOT/master/utils.py')\n",
    "\n",
    "import numpy as np\n",
    "import pandas as pd\n",
    "from utils import *\n",
    "import torch"
   ]
  },
  {
   "cell_type": "code",
   "execution_count": 2,
   "metadata": {},
   "outputs": [],
   "source": [
    "np.random.seed(0)"
   ]
  },
  {
   "cell_type": "code",
   "execution_count": 12,
   "metadata": {},
   "outputs": [],
   "source": [
    "# Function produce_NA for generating missing values ------------------------------------------------------\n",
    "\n",
    "def produce_NA(X, p_miss, mecha=\"MCAR\", opt=None, p_obs=None, q=None):\n",
    "    \"\"\"\n",
    "    Generate missing values for specifics missing-data mechanism and proportion of missing values. \n",
    "    \n",
    "    Parameters\n",
    "    ----------\n",
    "    X : torch.DoubleTensor or np.ndarray, shape (n, d)\n",
    "        Data for which missing values will be simulated.\n",
    "        If a numpy array is provided, it will be converted to a pytorch tensor.\n",
    "    p_miss : float\n",
    "        Proportion of missing values to generate for variables which will have missing values.\n",
    "    mecha : str, \n",
    "            Indicates the missing-data mechanism to be used. \"MCAR\" by default, \"MAR\", \"MNAR\" or \"MNARsmask\"\n",
    "    opt: str, \n",
    "         For mecha = \"MNAR\", it indicates how the missing-data mechanism is generated: using a logistic regression (\"logistic\"), quantile censorship (\"quantile\") or logistic regression for generating a self-masked MNAR mechanism (\"selfmasked\").\n",
    "    p_obs : float\n",
    "            If mecha = \"MAR\", or mecha = \"MNAR\" with opt = \"logistic\" or \"quanti\", proportion of variables with *no* missing values that will be used for the logistic masking model.\n",
    "    q : float\n",
    "        If mecha = \"MNAR\" and opt = \"quanti\", quantile level at which the cuts should occur.\n",
    "    \n",
    "    Returns\n",
    "    ----------\n",
    "    A dictionnary containing:\n",
    "    'X_init': the initial data matrix.\n",
    "    'X_incomp': the data with the generated missing values.\n",
    "    'mask': a matrix indexing the generated missing values.s\n",
    "    \"\"\"\n",
    "    \n",
    "    to_torch = torch.is_tensor(X) ## output a pytorch tensor, or a numpy array\n",
    "    if not to_torch:\n",
    "        X = X.astype(np.float32)\n",
    "        X = torch.from_numpy(X)\n",
    "    \n",
    "    if mecha == \"MAR\":\n",
    "        mask = MAR_mask(X, p_miss, p_obs).double()\n",
    "    elif mecha == \"MNAR\" and opt == \"logistic\":\n",
    "        mask = MNAR_mask_logistic(X, p_miss, p_obs).double()\n",
    "    elif mecha == \"MNAR\" and opt == \"quantile\":\n",
    "        mask = MNAR_mask_quantiles(X, p_miss, q, 1-p_obs).double()\n",
    "    elif mecha == \"MNAR\" and opt == \"selfmasked\":\n",
    "        mask = MNAR_self_mask_logistic(X, p_miss).double()\n",
    "    else:\n",
    "        mask = (torch.rand(X.shape) < p_miss).double()\n",
    "    \n",
    "    X_nas = X.clone()\n",
    "    X_nas[mask.bool()] = np.nan\n",
    "    \n",
    "    return {'X_init': X.double(), 'X_incomp': X_nas.double(), 'mask': mask}"
   ]
  },
  {
   "cell_type": "code",
   "execution_count": 3,
   "metadata": {},
   "outputs": [],
   "source": [
    "data = pd.read_csv('trainSet.txt')"
   ]
  },
  {
   "cell_type": "code",
   "execution_count": 4,
   "metadata": {},
   "outputs": [
    {
     "output_type": "execute_result",
     "data": {
      "text/plain": [
       "6"
      ]
     },
     "metadata": {},
     "execution_count": 4
    }
   ],
   "source": [
    "# N full rows\n",
    "len(data.dropna())"
   ]
  },
  {
   "cell_type": "code",
   "execution_count": 5,
   "metadata": {},
   "outputs": [
    {
     "output_type": "execute_result",
     "data": {
      "text/plain": [
       "PatientID                0.00\n",
       "ImageFile                0.00\n",
       "Hospital                 0.00\n",
       "Age                      0.00\n",
       "Sex                      0.00\n",
       "Temp_C                   0.18\n",
       "Cough                    0.01\n",
       "DifficultyInBreathing    0.00\n",
       "WBC                      0.01\n",
       "CRP                      0.04\n",
       "Fibrinogen               0.68\n",
       "LDH                      0.16\n",
       "Ddimer                   0.72\n",
       "Ox_percentage            0.28\n",
       "PaO2                     0.20\n",
       "SaO2                     0.68\n",
       "pH                       0.24\n",
       "CardiovascularDisease    0.02\n",
       "RespiratoryFailure       0.18\n",
       "Prognosis                0.00\n",
       "dtype: float64"
      ]
     },
     "metadata": {},
     "execution_count": 5
    }
   ],
   "source": [
    "# Percentage of missigness\n",
    "round(data.isna().sum()/len(data), 2)"
   ]
  },
  {
   "cell_type": "code",
   "execution_count": 10,
   "metadata": {},
   "outputs": [],
   "source": [
    "dataDropped = data.drop(['Ddimer', 'SaO2', 'Fibrinogen', 'Prognosis', 'PatientID', 'ImageFile', 'Hospital'], axis = 1).dropna()\n",
    "# Binary variables (Hackathon description_26_04.pdf)\n",
    "dataDropped['Cough'] = pd.factorize(dataDropped['Cough'])[0]\n",
    "dataDropped['Sex'] = pd.factorize(dataDropped['Sex'])[0]\n",
    "dataDropped['DifficultyInBreathing'] = pd.factorize(dataDropped['DifficultyInBreathing'])[0]\n",
    "dataDropped['CardiovascularDisease'] = pd.factorize(dataDropped['CardiovascularDisease'])[0]\n",
    "dataDropped['RespiratoryFailure'] = pd.factorize(dataDropped['RespiratoryFailure'])[0]"
   ]
  },
  {
   "cell_type": "code",
   "execution_count": 11,
   "metadata": {},
   "outputs": [
    {
     "output_type": "execute_result",
     "data": {
      "text/plain": [
       "      Age  Sex  Temp_C  Cough  DifficultyInBreathing    WBC    CRP    LDH  \\\n",
       "24   56.0    0    38.3      0                      0   7.85   9.00  159.0   \n",
       "25   61.0    0    38.0      1                      0   3.57  57.40  309.0   \n",
       "27   64.0    0    36.0      1                      1   5.26  41.90  299.0   \n",
       "28   54.0    0    36.6      1                      1   7.01  67.90  458.0   \n",
       "29   44.0    0    37.7      0                      1   9.18  42.70  243.0   \n",
       "..    ...  ...     ...    ...                    ...    ...    ...    ...   \n",
       "815  47.0    1    36.0      1                      0  11.20   0.02  161.0   \n",
       "821  59.0    1    36.3      0                      1   6.90   1.15  237.0   \n",
       "827  52.0    0    37.5      0                      0   5.40   1.63  307.0   \n",
       "836  48.0    0    36.5      0                      1   5.91   1.86  235.0   \n",
       "844  50.0    0    39.0      1                      1   6.90  22.01  332.0   \n",
       "\n",
       "     Ox_percentage  PaO2    pH  CardiovascularDisease  RespiratoryFailure  \n",
       "24            93.0  73.2  7.47                      0                   0  \n",
       "25            92.0  57.0  7.47                      0                   0  \n",
       "27            96.0  72.2  7.51                      1                   0  \n",
       "28            97.0  61.0  7.45                      0                   0  \n",
       "29            98.0  23.0  7.43                      0                   0  \n",
       "..             ...   ...   ...                    ...                 ...  \n",
       "815           97.0  99.0  7.40                      0                   0  \n",
       "821           95.0  82.0  7.39                      0                   0  \n",
       "827           89.0  62.3  7.46                      0                   0  \n",
       "836           99.0  81.9  7.42                      0                   0  \n",
       "844           90.0  81.0  7.44                      0                   0  \n",
       "\n",
       "[314 rows x 13 columns]"
      ],
      "text/html": "<div>\n<style scoped>\n    .dataframe tbody tr th:only-of-type {\n        vertical-align: middle;\n    }\n\n    .dataframe tbody tr th {\n        vertical-align: top;\n    }\n\n    .dataframe thead th {\n        text-align: right;\n    }\n</style>\n<table border=\"1\" class=\"dataframe\">\n  <thead>\n    <tr style=\"text-align: right;\">\n      <th></th>\n      <th>Age</th>\n      <th>Sex</th>\n      <th>Temp_C</th>\n      <th>Cough</th>\n      <th>DifficultyInBreathing</th>\n      <th>WBC</th>\n      <th>CRP</th>\n      <th>LDH</th>\n      <th>Ox_percentage</th>\n      <th>PaO2</th>\n      <th>pH</th>\n      <th>CardiovascularDisease</th>\n      <th>RespiratoryFailure</th>\n    </tr>\n  </thead>\n  <tbody>\n    <tr>\n      <th>24</th>\n      <td>56.0</td>\n      <td>0</td>\n      <td>38.3</td>\n      <td>0</td>\n      <td>0</td>\n      <td>7.85</td>\n      <td>9.00</td>\n      <td>159.0</td>\n      <td>93.0</td>\n      <td>73.2</td>\n      <td>7.47</td>\n      <td>0</td>\n      <td>0</td>\n    </tr>\n    <tr>\n      <th>25</th>\n      <td>61.0</td>\n      <td>0</td>\n      <td>38.0</td>\n      <td>1</td>\n      <td>0</td>\n      <td>3.57</td>\n      <td>57.40</td>\n      <td>309.0</td>\n      <td>92.0</td>\n      <td>57.0</td>\n      <td>7.47</td>\n      <td>0</td>\n      <td>0</td>\n    </tr>\n    <tr>\n      <th>27</th>\n      <td>64.0</td>\n      <td>0</td>\n      <td>36.0</td>\n      <td>1</td>\n      <td>1</td>\n      <td>5.26</td>\n      <td>41.90</td>\n      <td>299.0</td>\n      <td>96.0</td>\n      <td>72.2</td>\n      <td>7.51</td>\n      <td>1</td>\n      <td>0</td>\n    </tr>\n    <tr>\n      <th>28</th>\n      <td>54.0</td>\n      <td>0</td>\n      <td>36.6</td>\n      <td>1</td>\n      <td>1</td>\n      <td>7.01</td>\n      <td>67.90</td>\n      <td>458.0</td>\n      <td>97.0</td>\n      <td>61.0</td>\n      <td>7.45</td>\n      <td>0</td>\n      <td>0</td>\n    </tr>\n    <tr>\n      <th>29</th>\n      <td>44.0</td>\n      <td>0</td>\n      <td>37.7</td>\n      <td>0</td>\n      <td>1</td>\n      <td>9.18</td>\n      <td>42.70</td>\n      <td>243.0</td>\n      <td>98.0</td>\n      <td>23.0</td>\n      <td>7.43</td>\n      <td>0</td>\n      <td>0</td>\n    </tr>\n    <tr>\n      <th>...</th>\n      <td>...</td>\n      <td>...</td>\n      <td>...</td>\n      <td>...</td>\n      <td>...</td>\n      <td>...</td>\n      <td>...</td>\n      <td>...</td>\n      <td>...</td>\n      <td>...</td>\n      <td>...</td>\n      <td>...</td>\n      <td>...</td>\n    </tr>\n    <tr>\n      <th>815</th>\n      <td>47.0</td>\n      <td>1</td>\n      <td>36.0</td>\n      <td>1</td>\n      <td>0</td>\n      <td>11.20</td>\n      <td>0.02</td>\n      <td>161.0</td>\n      <td>97.0</td>\n      <td>99.0</td>\n      <td>7.40</td>\n      <td>0</td>\n      <td>0</td>\n    </tr>\n    <tr>\n      <th>821</th>\n      <td>59.0</td>\n      <td>1</td>\n      <td>36.3</td>\n      <td>0</td>\n      <td>1</td>\n      <td>6.90</td>\n      <td>1.15</td>\n      <td>237.0</td>\n      <td>95.0</td>\n      <td>82.0</td>\n      <td>7.39</td>\n      <td>0</td>\n      <td>0</td>\n    </tr>\n    <tr>\n      <th>827</th>\n      <td>52.0</td>\n      <td>0</td>\n      <td>37.5</td>\n      <td>0</td>\n      <td>0</td>\n      <td>5.40</td>\n      <td>1.63</td>\n      <td>307.0</td>\n      <td>89.0</td>\n      <td>62.3</td>\n      <td>7.46</td>\n      <td>0</td>\n      <td>0</td>\n    </tr>\n    <tr>\n      <th>836</th>\n      <td>48.0</td>\n      <td>0</td>\n      <td>36.5</td>\n      <td>0</td>\n      <td>1</td>\n      <td>5.91</td>\n      <td>1.86</td>\n      <td>235.0</td>\n      <td>99.0</td>\n      <td>81.9</td>\n      <td>7.42</td>\n      <td>0</td>\n      <td>0</td>\n    </tr>\n    <tr>\n      <th>844</th>\n      <td>50.0</td>\n      <td>0</td>\n      <td>39.0</td>\n      <td>1</td>\n      <td>1</td>\n      <td>6.90</td>\n      <td>22.01</td>\n      <td>332.0</td>\n      <td>90.0</td>\n      <td>81.0</td>\n      <td>7.44</td>\n      <td>0</td>\n      <td>0</td>\n    </tr>\n  </tbody>\n</table>\n<p>314 rows × 13 columns</p>\n</div>"
     },
     "metadata": {},
     "execution_count": 11
    }
   ],
   "source": []
  },
  {
   "cell_type": "code",
   "execution_count": 14,
   "metadata": {},
   "outputs": [],
   "source": [
    "dataDroppedMCAR = produce_NA(dataDropped.to_numpy(), p_miss=0.4, mecha=\"MCAR\")"
   ]
  },
  {
   "cell_type": "code",
   "execution_count": 15,
   "metadata": {},
   "outputs": [
    {
     "output_type": "execute_result",
     "data": {
      "text/plain": [
       "{'X_init': tensor([[56.0000,  0.0000, 38.3000,  ...,  7.4700,  0.0000,  0.0000],\n",
       "         [61.0000,  0.0000, 38.0000,  ...,  7.4700,  0.0000,  0.0000],\n",
       "         [64.0000,  0.0000, 36.0000,  ...,  7.5100,  1.0000,  0.0000],\n",
       "         ...,\n",
       "         [52.0000,  0.0000, 37.5000,  ...,  7.4600,  0.0000,  0.0000],\n",
       "         [48.0000,  0.0000, 36.5000,  ...,  7.4200,  0.0000,  0.0000],\n",
       "         [50.0000,  0.0000, 39.0000,  ...,  7.4400,  0.0000,  0.0000]],\n",
       "        dtype=torch.float64),\n",
       " 'X_incomp': tensor([[56.0000,  0.0000, 38.3000,  ...,  7.4700,  0.0000,  0.0000],\n",
       "         [    nan,  0.0000, 38.0000,  ...,     nan,  0.0000,  0.0000],\n",
       "         [64.0000,     nan,     nan,  ...,  7.5100,  1.0000,  0.0000],\n",
       "         ...,\n",
       "         [52.0000,     nan,     nan,  ...,     nan,     nan,     nan],\n",
       "         [    nan,  0.0000, 36.5000,  ...,     nan,     nan,     nan],\n",
       "         [50.0000,     nan, 39.0000,  ...,  7.4400,     nan,  0.0000]],\n",
       "        dtype=torch.float64),\n",
       " 'mask': tensor([[0., 0., 0.,  ..., 0., 0., 0.],\n",
       "         [1., 0., 0.,  ..., 1., 0., 0.],\n",
       "         [0., 1., 1.,  ..., 0., 0., 0.],\n",
       "         ...,\n",
       "         [0., 1., 1.,  ..., 1., 1., 1.],\n",
       "         [1., 0., 0.,  ..., 1., 1., 1.],\n",
       "         [0., 1., 0.,  ..., 0., 1., 0.]], dtype=torch.float64)}"
      ]
     },
     "metadata": {},
     "execution_count": 15
    }
   ],
   "source": [
    "dataDroppedMCAR"
   ]
  }
 ],
 "metadata": {
  "kernelspec": {
   "name": "python392jvsc74a57bd0918b74d625347cde4a6239dba95ef8a6c2073475dbe6d0f23c79a1d87985e3e6",
   "display_name": "Python 3.9.2 64-bit ('data-science': conda)"
  },
  "language_info": {
   "codemirror_mode": {
    "name": "ipython",
    "version": 3
   },
   "file_extension": ".py",
   "mimetype": "text/x-python",
   "name": "python",
   "nbconvert_exporter": "python",
   "pygments_lexer": "ipython3",
   "version": "3.9.2"
  },
  "metadata": {
   "interpreter": {
    "hash": "918b74d625347cde4a6239dba95ef8a6c2073475dbe6d0f23c79a1d87985e3e6"
   }
  }
 },
 "nbformat": 4,
 "nbformat_minor": 4
}