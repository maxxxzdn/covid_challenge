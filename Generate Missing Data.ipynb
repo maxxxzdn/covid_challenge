{
 "cells": [
  {
   "cell_type": "code",
   "execution_count": 35,
   "metadata": {},
   "outputs": [],
   "source": [
    "import numpy as np\n",
    "import pandas as pd\n",
    "from utils import *\n",
    "import torch\n",
    "from fancyimpute import SimpleFill, SoftImpute, IterativeSVD, NuclearNormMinimization\n",
    "from scipy import stats\n",
    "from matplotlib import pyplot as plt\n",
    "import seaborn as sns"
   ]
  },
  {
   "cell_type": "code",
   "execution_count": 4,
   "metadata": {},
   "outputs": [],
   "source": [
    "np.random.seed(0)"
   ]
  },
  {
   "cell_type": "code",
   "execution_count": 5,
   "metadata": {},
   "outputs": [],
   "source": [
    "# Function produce_NA for generating missing values ------------------------------------------------------\n",
    "\n",
    "def produce_NA(X, p_miss, mecha=\"MCAR\", opt=None, p_obs=None, q=None):\n",
    "    \"\"\"\n",
    "    Generate missing values for specifics missing-data mechanism and proportion of missing values. \n",
    "    \n",
    "    Parameters\n",
    "    ----------\n",
    "    X : torch.DoubleTensor or np.ndarray, shape (n, d)\n",
    "        Data for which missing values will be simulated.\n",
    "        If a numpy array is provided, it will be converted to a pytorch tensor.\n",
    "    p_miss : float\n",
    "        Proportion of missing values to generate for variables which will have missing values.\n",
    "    mecha : str, \n",
    "            Indicates the missing-data mechanism to be used. \"MCAR\" by default, \"MAR\", \"MNAR\" or \"MNARsmask\"\n",
    "    opt: str, \n",
    "         For mecha = \"MNAR\", it indicates how the missing-data mechanism is generated: using a logistic regression (\"logistic\"), quantile censorship (\"quantile\") or logistic regression for generating a self-masked MNAR mechanism (\"selfmasked\").\n",
    "    p_obs : float\n",
    "            If mecha = \"MAR\", or mecha = \"MNAR\" with opt = \"logistic\" or \"quanti\", proportion of variables with *no* missing values that will be used for the logistic masking model.\n",
    "    q : float\n",
    "        If mecha = \"MNAR\" and opt = \"quanti\", quantile level at which the cuts should occur.\n",
    "    \n",
    "    Returns\n",
    "    ----------\n",
    "    A dictionnary containing:\n",
    "    'X_init': the initial data matrix.\n",
    "    'X_incomp': the data with the generated missing values.\n",
    "    'mask': a matrix indexing the generated missing values.s\n",
    "    \"\"\"\n",
    "    \n",
    "    to_torch = torch.is_tensor(X) ## output a pytorch tensor, or a numpy array\n",
    "    if not to_torch:\n",
    "        X = X.astype(np.float32)\n",
    "        X = torch.from_numpy(X)\n",
    "    \n",
    "    if mecha == \"MAR\":\n",
    "        mask = MAR_mask(X, p_miss, p_obs).double()\n",
    "    elif mecha == \"MNAR\" and opt == \"logistic\":\n",
    "        mask = MNAR_mask_logistic(X, p_miss, p_obs).double()\n",
    "    elif mecha == \"MNAR\" and opt == \"quantile\":\n",
    "        mask = MNAR_mask_quantiles(X, p_miss, q, 1-p_obs).double()\n",
    "    elif mecha == \"MNAR\" and opt == \"selfmasked\":\n",
    "        mask = MNAR_self_mask_logistic(X, p_miss).double()\n",
    "    else:\n",
    "        mask = (torch.rand(X.shape) < p_miss).double()\n",
    "    \n",
    "    X_nas = X.clone()\n",
    "    X_nas[mask.bool()] = np.nan\n",
    "    \n",
    "    return {'X_init': X.double(), 'X_incomp': X_nas.double(), 'mask': mask}"
   ]
  },
  {
   "cell_type": "code",
   "execution_count": 6,
   "metadata": {},
   "outputs": [],
   "source": [
    "data = pd.read_csv('trainSet.txt')"
   ]
  },
  {
   "cell_type": "code",
   "execution_count": 8,
   "metadata": {},
   "outputs": [
    {
     "data": {
      "text/plain": [
       "6"
      ]
     },
     "execution_count": 8,
     "metadata": {},
     "output_type": "execute_result"
    }
   ],
   "source": [
    "# N full rows\n",
    "len(data.dropna())"
   ]
  },
  {
   "cell_type": "code",
   "execution_count": 9,
   "metadata": {},
   "outputs": [
    {
     "data": {
      "text/plain": [
       "PatientID                0.00\n",
       "ImageFile                0.00\n",
       "Hospital                 0.00\n",
       "Age                      0.00\n",
       "Sex                      0.00\n",
       "Temp_C                   0.18\n",
       "Cough                    0.01\n",
       "DifficultyInBreathing    0.00\n",
       "WBC                      0.01\n",
       "CRP                      0.04\n",
       "Fibrinogen               0.68\n",
       "LDH                      0.16\n",
       "Ddimer                   0.72\n",
       "Ox_percentage            0.28\n",
       "PaO2                     0.20\n",
       "SaO2                     0.68\n",
       "pH                       0.24\n",
       "CardiovascularDisease    0.02\n",
       "RespiratoryFailure       0.18\n",
       "Prognosis                0.00\n",
       "dtype: float64"
      ]
     },
     "execution_count": 9,
     "metadata": {},
     "output_type": "execute_result"
    }
   ],
   "source": [
    "# Percentage of missigness\n",
    "round(data.isna().sum()/len(data), 2)"
   ]
  },
  {
   "cell_type": "code",
   "execution_count": 10,
   "metadata": {},
   "outputs": [],
   "source": [
    "def preprocess(df):\n",
    "   dataDropped = df.drop(['Ddimer', 'SaO2', 'Fibrinogen', 'Prognosis', 'PatientID', 'ImageFile', 'Hospital'], axis = 1).dropna()\n",
    "   # Binary variables (Hackathon description_26_04.pdf)\n",
    "   dataDropped['Cough'] = pd.factorize(dataDropped['Cough'])[0]\n",
    "   dataDropped['Sex'] = pd.factorize(dataDropped['Sex'])[0]\n",
    "   dataDropped['DifficultyInBreathing'] = pd.factorize(dataDropped['DifficultyInBreathing'])[0]\n",
    "   dataDropped['CardiovascularDisease'] = pd.factorize(dataDropped['CardiovascularDisease'])[0]\n",
    "   dataDropped['RespiratoryFailure'] = pd.factorize(dataDropped['RespiratoryFailure'])[0]\n",
    "   return dataDropped\n",
    "\n",
    "def standardize(df):\n",
    "    return ((df - df.mean())/df.std())**2"
   ]
  },
  {
   "cell_type": "code",
   "execution_count": null,
   "metadata": {},
   "outputs": [],
   "source": []
  },
  {
   "cell_type": "code",
   "execution_count": 30,
   "metadata": {},
   "outputs": [],
   "source": [
    "def generateMissingData(df, p_miss=0.3):\n",
    "    processed = preprocess(df)\n",
    "#     standardized = standardize(processed)\n",
    "    res = produce_NA(processed.to_numpy(), p_miss=p_miss, mecha=\"MCAR\")\n",
    "    res['X_init'] = pd.DataFrame(res['X_init'].numpy())\n",
    "    res['X_init'].columns = processed.columns\n",
    "    res['X_incomp'] = pd.DataFrame(res['X_incomp'].numpy())\n",
    "    res['X_incomp'].columns = processed.columns\n",
    "    return res"
   ]
  },
  {
   "cell_type": "code",
   "execution_count": 31,
   "metadata": {},
   "outputs": [],
   "source": [
    "def evaluate(data, algorithm):\n",
    "    full_data, missed_data, _ = generateMissingData(data).items()\n",
    "    restored_data = algorithm.fit_transform(missed_data[1])\n",
    "    return np.linalg.norm(restored_data-full_data[1], ord = 2)"
   ]
  },
  {
   "cell_type": "markdown",
   "metadata": {},
   "source": [
    "## Main Benchmark"
   ]
  },
  {
   "cell_type": "code",
   "execution_count": 32,
   "metadata": {},
   "outputs": [],
   "source": [
    "algorithms = {\n",
    "    \"SimpleFill\": SimpleFill(),\n",
    "    \"SoftImpute\": SoftImpute(),\n",
    "    \"IterativeSVD\": IterativeSVD(),\n",
    "#     \"NuclearNormMinimization\": NuclearNormMinimization()\n",
    "}\n",
    "\n",
    "benchmarkResults = {algorithm: [] for algorithm in algorithms}"
   ]
  },
  {
   "cell_type": "code",
   "execution_count": null,
   "metadata": {},
   "outputs": [],
   "source": [
    "for algorithm in algorithms:\n",
    "    print(\"Start with {}\".format(algorithm))\n",
    "    for k in range(100):\n",
    "        benchmarkResults[algorithm].append(evaluate(data, algorithms[algorithm]))\n",
    "    print(\"End with {}\".format(algorithm))\n",
    "        "
   ]
  },
  {
   "cell_type": "code",
   "execution_count": 34,
   "metadata": {},
   "outputs": [
    {
     "name": "stdout",
     "output_type": "stream",
     "text": [
      "Result for algorithm SimpleFill\n",
      "Mean: 2309.802067588941\n",
      "Mode: 1336.53760191593\n",
      "Result for algorithm SoftImpute\n",
      "Mean: 3673.5420578503904\n",
      "Mode: 2532.428604228256\n",
      "Result for algorithm IterativeSVD\n",
      "Mean: 4150.057761735772\n",
      "Mode: 3244.192686978472\n"
     ]
    }
   ],
   "source": [
    "for algorithm in algorithms:\n",
    "    print(\"Result for algorithm {}\".format(algorithm))\n",
    "    print(\"Mean: {}\".format(np.mean(benchmarkResults[algorithm])))\n",
    "    print(\"Mode: {}\".format(stats.mode(benchmarkResults[algorithm])[0][0]))\n"
   ]
  },
  {
   "cell_type": "markdown",
   "metadata": {},
   "source": [
    "## Plot"
   ]
  },
  {
   "cell_type": "code",
   "execution_count": 49,
   "metadata": {},
   "outputs": [
    {
     "data": {
      "image/png": "[encoded data removed]",
      "text/plain": [
       "<Figure size 432x288 with 1 Axes>"
      ]
     },
     "metadata": {
      "needs_background": "light"
     },
     "output_type": "display_data"
    }
   ],
   "source": [
    "dfs = []\n",
    "for algorithm in algorithms:\n",
    "    dfs.append(pd.DataFrame(np.reshape(np.array(benchmarkResults[algorithm]), (-1, 1))).assign(Algorithm=algorithm))\n",
    "cdf = pd.concat(dfs)\n",
    "mdf = pd.melt(cdf, id_vars=['Algorithm'])\n",
    "ax = sns.boxplot(x=\"Algorithm\", y=\"value\", data=mdf)  # RUN PLOT   \n",
    "# plt.savefig(\"result.jpg\")\n",
    "plt.show()\n",
    "\n",
    "plt.clf()\n",
    "\n",
    "plt.close()    "
   ]
  },
  {
   "cell_type": "code",
   "execution_count": null,
   "metadata": {},
   "outputs": [],
   "source": []
  }
 ],
 "metadata": {
  "kernelspec": {
   "display_name": "Python 3",
   "language": "python",
   "name": "python3"
  },
  "language_info": {
   "codemirror_mode": {
    "name": "ipython",
    "version": 3
   },
   "file_extension": ".py",
   "mimetype": "text/x-python",
   "name": "python",
   "nbconvert_exporter": "python",
   "pygments_lexer": "ipython3",
   "version": "3.6.13"
  },
  "metadata": {
   "interpreter": {
    "hash": "918b74d625347cde4a6239dba95ef8a6c2073475dbe6d0f23c79a1d87985e3e6"
   }
  }
 },
 "nbformat": 4,
 "nbformat_minor": 4
}
