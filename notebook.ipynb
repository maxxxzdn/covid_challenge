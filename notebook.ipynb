{
 "cells": [
  {
   "cell_type": "code",
   "execution_count": 1,
   "metadata": {},
   "outputs": [],
   "source": [
    "import pandas as pd"
   ]
  },
  {
   "cell_type": "code",
   "execution_count": 6,
   "metadata": {},
   "outputs": [],
   "source": [
    "data = pd.read_csv('trainSet.txt')"
   ]
  },
  {
   "cell_type": "code",
   "execution_count": 9,
   "metadata": {},
   "outputs": [
    {
     "data": {
      "text/plain": [
       "6"
      ]
     },
     "execution_count": 9,
     "metadata": {},
     "output_type": "execute_result"
    }
   ],
   "source": [
    "len(data.dropna())"
   ]
  },
  {
   "cell_type": "code",
   "execution_count": 15,
   "metadata": {},
   "outputs": [
    {
     "data": {
      "text/plain": [
       "PatientID                0.00\n",
       "ImageFile                0.00\n",
       "Hospital                 0.00\n",
       "Age                      0.00\n",
       "Sex                      0.00\n",
       "Temp_C                   0.18\n",
       "Cough                    0.01\n",
       "DifficultyInBreathing    0.00\n",
       "WBC                      0.01\n",
       "CRP                      0.04\n",
       "Fibrinogen               0.68\n",
       "LDH                      0.16\n",
       "Ddimer                   0.72\n",
       "Ox_percentage            0.28\n",
       "PaO2                     0.20\n",
       "SaO2                     0.68\n",
       "pH                       0.24\n",
       "CardiovascularDisease    0.02\n",
       "RespiratoryFailure       0.18\n",
       "Prognosis                0.00\n",
       "dtype: float64"
      ]
     },
     "execution_count": 15,
     "metadata": {},
     "output_type": "execute_result"
    }
   ],
   "source": [
    "round(data.isna().sum()/len(data), 2)"
   ]
  }
 ],
 "metadata": {
  "kernelspec": {
   "display_name": "Python 3",
   "language": "python",
   "name": "python3"
  },
  "language_info": {
   "codemirror_mode": {
    "name": "ipython",
    "version": 3
   },
   "file_extension": ".py",
   "mimetype": "text/x-python",
   "name": "python",
   "nbconvert_exporter": "python",
   "pygments_lexer": "ipython3",
   "version": "3.8.6"
  }
 },
 "nbformat": 4,
 "nbformat_minor": 4
}
